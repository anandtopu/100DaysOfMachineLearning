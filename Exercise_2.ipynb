{
  "nbformat": 4,
  "nbformat_minor": 0,
  "metadata": {
    "colab": {
      "name": "Exercise_2.ipynb",
      "provenance": [],
      "collapsed_sections": [],
      "include_colab_link": true
    },
    "kernelspec": {
      "name": "python3",
      "display_name": "Python 3"
    },
    "language_info": {
      "name": "python"
    }
  },
  "cells": [
    {
      "cell_type": "markdown",
      "metadata": {
        "id": "view-in-github",
        "colab_type": "text"
      },
      "source": [
        "<a href=\"https://colab.research.google.com/github/anandtopu/100DaysOfMachineLearning/blob/master/Exercise_2.ipynb\" target=\"_parent\"><img src=\"https://colab.research.google.com/assets/colab-badge.svg\" alt=\"Open In Colab\"/></a>"
      ]
    },
    {
      "cell_type": "markdown",
      "metadata": {
        "id": "DAUo0J4AgyYB"
      },
      "source": [
        "# Exercise 2: Tensors and Data"
      ]
    },
    {
      "cell_type": "markdown",
      "metadata": {
        "id": "8SV_egeB4KFn"
      },
      "source": [
        "# Tensors"
      ]
    },
    {
      "cell_type": "code",
      "metadata": {
        "id": "635BCz3TwPdN"
      },
      "source": [
        "import torch"
      ],
      "execution_count": null,
      "outputs": []
    },
    {
      "cell_type": "code",
      "metadata": {
        "colab": {
          "base_uri": "https://localhost:8080/"
        },
        "id": "rgYPhlqRwQLD",
        "outputId": "5da2e07e-69ed-41d6-aeaa-da702cbe6508"
      },
      "source": [
        "x = torch.randn((2,3,4))\n",
        "x"
      ],
      "execution_count": null,
      "outputs": [
        {
          "output_type": "execute_result",
          "data": {
            "text/plain": [
              "tensor([[[-0.6821,  2.0452, -0.8155,  1.0177],\n",
              "         [ 0.0580, -0.2678,  0.3856,  0.6357],\n",
              "         [-2.1011,  0.4320, -1.1815, -1.2482]],\n",
              "\n",
              "        [[ 1.0114, -0.1282,  1.1403,  0.2782],\n",
              "         [ 0.8214,  1.9457,  0.9430, -0.0976],\n",
              "         [ 2.0308,  0.7842,  0.0646, -1.3259]]])"
            ]
          },
          "metadata": {
            "tags": []
          },
          "execution_count": 7
        }
      ]
    },
    {
      "cell_type": "code",
      "metadata": {
        "colab": {
          "base_uri": "https://localhost:8080/"
        },
        "id": "UD9lR0Yh4NkU",
        "outputId": "c2d22779-3ae7-4687-9e50-1f5528ed23d1"
      },
      "source": [
        "y = torch.randn_like(x)\n",
        "z = x + y\n",
        "print(x, '\\n', y, '\\n', z)"
      ],
      "execution_count": null,
      "outputs": [
        {
          "output_type": "stream",
          "text": [
            "tensor([[[-0.6821,  2.0452, -0.8155,  1.0177],\n",
            "         [ 0.0580, -0.2678,  0.3856,  0.6357],\n",
            "         [-2.1011,  0.4320, -1.1815, -1.2482]],\n",
            "\n",
            "        [[ 1.0114, -0.1282,  1.1403,  0.2782],\n",
            "         [ 0.8214,  1.9457,  0.9430, -0.0976],\n",
            "         [ 2.0308,  0.7842,  0.0646, -1.3259]]]) \n",
            " tensor([[[ 0.5634,  0.1945,  0.3218,  2.0072],\n",
            "         [-0.0617,  2.1441,  0.6317, -0.4293],\n",
            "         [-0.3106,  1.6302, -0.8277,  0.6412]],\n",
            "\n",
            "        [[ 0.6555, -1.2323, -0.1177, -0.7839],\n",
            "         [-2.0265, -2.8610, -0.4756,  0.9021],\n",
            "         [-0.2604,  0.6805, -0.6270,  0.2951]]]) \n",
            " tensor([[[-0.1187,  2.2397, -0.4937,  3.0250],\n",
            "         [-0.0037,  1.8763,  1.0173,  0.2064],\n",
            "         [-2.4117,  2.0622, -2.0092, -0.6069]],\n",
            "\n",
            "        [[ 1.6669, -1.3605,  1.0225, -0.5057],\n",
            "         [-1.2051, -0.9153,  0.4674,  0.8046],\n",
            "         [ 1.7704,  1.4647, -0.5624, -1.0309]]])\n"
          ],
          "name": "stdout"
        }
      ]
    },
    {
      "cell_type": "code",
      "metadata": {
        "colab": {
          "base_uri": "https://localhost:8080/"
        },
        "id": "-NFa8o-ybslh",
        "outputId": "3e277816-d08c-40fe-c56c-a08e2d728a2e"
      },
      "source": [
        "x.device"
      ],
      "execution_count": null,
      "outputs": [
        {
          "output_type": "execute_result",
          "data": {
            "text/plain": [
              "device(type='cpu')"
            ]
          },
          "metadata": {
            "tags": []
          },
          "execution_count": 9
        }
      ]
    },
    {
      "cell_type": "code",
      "metadata": {
        "colab": {
          "base_uri": "https://localhost:8080/"
        },
        "id": "yf9AYMtgcC_l",
        "outputId": "77258216-35c4-430b-c6d3-5367d6b4ded1"
      },
      "source": [
        "x.shape"
      ],
      "execution_count": null,
      "outputs": [
        {
          "output_type": "execute_result",
          "data": {
            "text/plain": [
              "torch.Size([2, 3, 4])"
            ]
          },
          "metadata": {
            "tags": []
          },
          "execution_count": 10
        }
      ]
    },
    {
      "cell_type": "code",
      "metadata": {
        "colab": {
          "base_uri": "https://localhost:8080/"
        },
        "id": "0utRJnnOcHhU",
        "outputId": "97783b3b-6b9a-4d35-98c5-055e88d68d85"
      },
      "source": [
        "x.dtype"
      ],
      "execution_count": null,
      "outputs": [
        {
          "output_type": "execute_result",
          "data": {
            "text/plain": [
              "torch.float32"
            ]
          },
          "metadata": {
            "tags": []
          },
          "execution_count": 11
        }
      ]
    },
    {
      "cell_type": "code",
      "metadata": {
        "colab": {
          "base_uri": "https://localhost:8080/"
        },
        "id": "kl0qEFjscLpU",
        "outputId": "45ac7cdf-bb6e-4fa4-9c74-4aa958c53687"
      },
      "source": [
        "w = torch.zeros((3,4,2))\n",
        "w"
      ],
      "execution_count": null,
      "outputs": [
        {
          "output_type": "execute_result",
          "data": {
            "text/plain": [
              "tensor([[[0., 0.],\n",
              "         [0., 0.],\n",
              "         [0., 0.],\n",
              "         [0., 0.]],\n",
              "\n",
              "        [[0., 0.],\n",
              "         [0., 0.],\n",
              "         [0., 0.],\n",
              "         [0., 0.]],\n",
              "\n",
              "        [[0., 0.],\n",
              "         [0., 0.],\n",
              "         [0., 0.],\n",
              "         [0., 0.]]])"
            ]
          },
          "metadata": {
            "tags": []
          },
          "execution_count": 13
        }
      ]
    },
    {
      "cell_type": "code",
      "metadata": {
        "colab": {
          "base_uri": "https://localhost:8080/"
        },
        "id": "CTrNqZQncoo0",
        "outputId": "320da27f-8f63-479a-a74f-67c568f12df8"
      },
      "source": [
        "x.mean()"
      ],
      "execution_count": null,
      "outputs": [
        {
          "output_type": "execute_result",
          "data": {
            "text/plain": [
              "tensor(0.2394)"
            ]
          },
          "metadata": {
            "tags": []
          },
          "execution_count": 15
        }
      ]
    },
    {
      "cell_type": "code",
      "metadata": {
        "id": "R8GkhWfIczQ1"
      },
      "source": [
        ""
      ],
      "execution_count": null,
      "outputs": []
    }
  ]
}